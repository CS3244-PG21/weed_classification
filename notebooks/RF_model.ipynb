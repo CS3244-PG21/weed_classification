{
 "cells": [
  {
   "cell_type": "markdown",
   "metadata": {},
   "source": [
    "# Random Forest"
   ]
  },
  {
   "cell_type": "code",
   "execution_count": 2,
   "metadata": {},
   "outputs": [],
   "source": [
    "import os\n",
    "import numpy as np\n",
    "import pandas as pd\n",
    "from collections import Counter\n",
    "from sklearn.model_selection import train_test_split\n",
    "from sklearn.preprocessing import LabelEncoder"
   ]
  },
  {
   "cell_type": "markdown",
   "metadata": {},
   "source": [
    "### Load Data"
   ]
  },
  {
   "cell_type": "code",
   "execution_count": 3,
   "metadata": {},
   "outputs": [],
   "source": [
    "# Load labels DataFrame\n",
    "labels_df = pd.read_csv('../labels.csv') \n",
    "image_dir = '../images'\n",
    "\n",
    "# Assuming 'Filename' and 'Species' are columns in your labels DataFrame\n",
    "image_filenames = labels_df['Filename'].values\n",
    "y = labels_df['Species'].values\n",
    "\n",
    "# Encode labels\n",
    "label_encoder = LabelEncoder()\n",
    "y_encoded = label_encoder.fit_transform(y)\n",
    "\n",
    "# Construct full image paths\n",
    "image_paths = [os.path.join(image_dir, fname) for fname in image_filenames]\n",
    "\n",
    "# Ensure images and labels are aligned\n",
    "if len(image_paths) != len(y_encoded):\n",
    "    raise ValueError(\"Number of images and labels do not match.\")"
   ]
  },
  {
   "cell_type": "markdown",
   "metadata": {},
   "source": [
    "### Data Splitting"
   ]
  },
  {
   "cell_type": "code",
   "execution_count": 4,
   "metadata": {},
   "outputs": [
    {
     "name": "stdout",
     "output_type": "stream",
     "text": [
      "Training label distribution: Counter({np.int64(2): 7285, np.int64(0): 900, np.int64(7): 859, np.int64(1): 851, np.int64(5): 849, np.int64(3): 825, np.int64(4): 818, np.int64(8): 813, np.int64(6): 807})\n",
      "Testing label distribution: Counter({np.int64(2): 1821, np.int64(0): 225, np.int64(7): 215, np.int64(1): 213, np.int64(5): 213, np.int64(3): 206, np.int64(4): 204, np.int64(8): 203, np.int64(6): 202})\n"
     ]
    }
   ],
   "source": [
    "# Split the data into training and test sets\n",
    "X_train_paths, X_test_paths, y_train, y_test = train_test_split(\n",
    "    image_paths, y_encoded, test_size=0.2, stratify=y_encoded, random_state=42\n",
    ")\n",
    "\n",
    "# Print label distributions\n",
    "print(\"Training label distribution:\", Counter(y_train))\n",
    "print(\"Testing label distribution:\", Counter(y_test))"
   ]
  },
  {
   "cell_type": "markdown",
   "metadata": {},
   "source": [
    "### Undersampling"
   ]
  },
  {
   "cell_type": "code",
   "execution_count": 5,
   "metadata": {},
   "outputs": [
    {
     "name": "stdout",
     "output_type": "stream",
     "text": [
      "Training label distribution after undersampling: Counter({np.int64(0): 900, np.int64(7): 859, np.int64(1): 851, np.int64(5): 849, np.int64(3): 825, np.int64(4): 818, np.int64(8): 813, np.int64(2): 807, np.int64(6): 807})\n"
     ]
    }
   ],
   "source": [
    "from imblearn.under_sampling import RandomUnderSampler\n",
    "\n",
    "# Identify the majority class in the training set\n",
    "class_counts = Counter(y_train)\n",
    "majority_class = max(class_counts, key=class_counts.get)\n",
    "\n",
    "# Determine the number of samples to keep for the majority class\n",
    "min_class_count = min(class_counts.values())\n",
    "sampling_strategy = {majority_class: min_class_count}\n",
    "\n",
    "# Prepare for undersampling\n",
    "undersampler = RandomUnderSampler(sampling_strategy=sampling_strategy, random_state=42)\n",
    "\n",
    "# Since undersampler works on arrays, convert lists to arrays and reshape\n",
    "X_train_paths_array = np.array(X_train_paths).reshape(-1, 1)\n",
    "\n",
    "# Apply undersampling\n",
    "X_resampled_paths, y_resampled = undersampler.fit_resample(X_train_paths_array, y_train)\n",
    "\n",
    "# Flatten back to 1D array\n",
    "X_resampled_paths = X_resampled_paths.flatten()\n",
    "\n",
    "# Print label distribution after undersampling\n",
    "print(\"Training label distribution after undersampling:\", Counter(y_resampled))"
   ]
  },
  {
   "cell_type": "markdown",
   "metadata": {},
   "source": [
    "### Preprocessing Function"
   ]
  },
  {
   "cell_type": "code",
   "execution_count": 6,
   "metadata": {},
   "outputs": [],
   "source": [
    "import cv2\n",
    "\n",
    "def f3(img_path, size=(128, 128), kernel_size=(5, 5), apply_edge_detection=True, edge_type='sobel'):\n",
    "    img = cv2.imread(img_path, 0)  # Load image as grayscale\n",
    "    if img is None:\n",
    "        print(f\"Warning: Unable to read image at {img_path}\")\n",
    "        return None\n",
    "    # Resize image\n",
    "    img = cv2.resize(img, size)\n",
    "    # Apply Gaussian Smoothing\n",
    "    img = cv2.GaussianBlur(img, kernel_size, 0)\n",
    "    # Apply edge detection\n",
    "    if apply_edge_detection:\n",
    "        if edge_type == 'sobel':\n",
    "            sobelx = cv2.Sobel(img, cv2.CV_64F, 1, 0, ksize=3)\n",
    "            sobely = cv2.Sobel(img, cv2.CV_64F, 0, 1, ksize=3)\n",
    "            img = cv2.magnitude(sobelx, sobely)\n",
    "        elif edge_type == 'prewitt':\n",
    "            kernelx = np.array([[1, 0, -1], [1, 0, -1], [1, 0, -1]])\n",
    "            kernely = np.array([[1, 1, 1], [0, 0, 0], [-1, -1, -1]])\n",
    "            prewittx = cv2.filter2D(img, -1, kernelx)\n",
    "            prewitty = cv2.filter2D(img, -1, kernely)\n",
    "            img = cv2.magnitude(prewittx, prewitty)\n",
    "        elif edge_type == 'canny':\n",
    "            img = cv2.Canny(img, 100, 200)\n",
    "    img = img / 255.0  # Normalize pixel values\n",
    "    img = img.flatten()\n",
    "    return img"
   ]
  },
  {
   "cell_type": "markdown",
   "metadata": {},
   "source": [
    "### Preprocess Training Images"
   ]
  },
  {
   "cell_type": "code",
   "execution_count": 7,
   "metadata": {},
   "outputs": [
    {
     "name": "stdout",
     "output_type": "stream",
     "text": [
      "Processed training data shape: (7529, 16384)\n"
     ]
    }
   ],
   "source": [
    "# Preprocess training images\n",
    "X_train_processed = []\n",
    "for path in X_resampled_paths:\n",
    "    img = f3(path)\n",
    "    if img is not None:\n",
    "        X_train_processed.append(img)\n",
    "    else:\n",
    "        # Handle missing images if necessary\n",
    "        pass\n",
    "\n",
    "X_train_processed = np.array(X_train_processed)\n",
    "y_train_processed = y_resampled  # Labels are already aligned\n",
    "\n",
    "# Ensure the number of images matches the number of labels\n",
    "if len(X_train_processed) != len(y_train_processed):\n",
    "    raise ValueError(\"Mismatch between processed training images and labels.\")\n",
    "\n",
    "print(\"Processed training data shape:\", X_train_processed.shape)"
   ]
  },
  {
   "cell_type": "markdown",
   "metadata": {},
   "source": [
    "### Preprocess Testing Images"
   ]
  },
  {
   "cell_type": "code",
   "execution_count": 8,
   "metadata": {},
   "outputs": [
    {
     "name": "stdout",
     "output_type": "stream",
     "text": [
      "Processed testing data shape: (3502, 16384)\n"
     ]
    }
   ],
   "source": [
    "# Preprocess testing images\n",
    "X_test_processed = []\n",
    "for path in X_test_paths:\n",
    "    img = f3(path)\n",
    "    if img is not None:\n",
    "        X_test_processed.append(img)\n",
    "    else:\n",
    "        # Handle missing images if necessary\n",
    "        pass\n",
    "\n",
    "X_test_processed = np.array(X_test_processed)\n",
    "y_test_processed = y_test  # Labels are already aligned\n",
    "\n",
    "# Ensure the number of images matches the number of labels\n",
    "if len(X_test_processed) != len(y_test_processed):\n",
    "    raise ValueError(\"Mismatch between processed testing images and labels.\")\n",
    "\n",
    "print(\"Processed testing data shape:\", X_test_processed.shape)"
   ]
  },
  {
   "cell_type": "markdown",
   "metadata": {},
   "source": [
    "### Apply CLAHE to training images"
   ]
  },
  {
   "cell_type": "code",
   "execution_count": 9,
   "metadata": {},
   "outputs": [],
   "source": [
    "# Reshape images to 2D\n",
    "image_height, image_width = 128, 128\n",
    "X_train_images = X_train_processed.reshape(-1, image_height, image_width)\n",
    "\n",
    "# Apply CLAHE\n",
    "clahe = cv2.createCLAHE(clipLimit=2.0, tileGridSize=(8, 8))\n",
    "X_train_clahe = np.array([\n",
    "    clahe.apply(np.uint8(img * 255)) / 255.0 for img in X_train_images\n",
    "])\n",
    "\n",
    "# Flatten images back\n",
    "X_train_final = X_train_clahe.reshape(X_train_clahe.shape[0], -1)"
   ]
  },
  {
   "cell_type": "markdown",
   "metadata": {},
   "source": [
    "### Apply CLAHE to testing images"
   ]
  },
  {
   "cell_type": "code",
   "execution_count": 10,
   "metadata": {},
   "outputs": [],
   "source": [
    "# Reshape images to 2D\n",
    "X_test_images = X_test_processed.reshape(-1, image_height, image_width)\n",
    "\n",
    "# Apply CLAHE\n",
    "X_test_clahe = np.array([\n",
    "    clahe.apply(np.uint8(img * 255)) / 255.0 for img in X_test_images\n",
    "])\n",
    "\n",
    "# Flatten images back\n",
    "X_test_final = X_test_clahe.reshape(X_test_clahe.shape[0], -1)"
   ]
  },
  {
   "cell_type": "markdown",
   "metadata": {},
   "source": [
    "### Data Preprocessing (PCA)\n"
   ]
  },
  {
   "cell_type": "code",
   "execution_count": 11,
   "metadata": {},
   "outputs": [
    {
     "data": {
      "image/png": "[encoded data removed]",
      "text/plain": [
       "<Figure size 800x600 with 1 Axes>"
      ]
     },
     "metadata": {},
     "output_type": "display_data"
    }
   ],
   "source": [
    "import matplotlib.pyplot as plt\n",
    "from sklearn.decomposition import PCA\n",
    "\n",
    "pca_full = PCA().fit(X_train_final)\n",
    "plt.figure(figsize=(8,6))\n",
    "plt.plot(np.cumsum(pca_full.explained_variance_ratio_))\n",
    "plt.xlabel('Number of Components')\n",
    "plt.ylabel('Cumulative Explained Variance')\n",
    "plt.title('PCA Explained Variance')\n",
    "plt.grid(True)\n",
    "plt.show()"
   ]
  },
  {
   "cell_type": "markdown",
   "metadata": {},
   "source": [
    "##### As more principal components are included, the cumulative explained variance increases. The graph helps identify the optimal number of components to use for dimensionality reduction while retaining most of the variance. "
   ]
  },
  {
   "cell_type": "code",
   "execution_count": 12,
   "metadata": {},
   "outputs": [],
   "source": [
    "apply_PCA = False\n",
    "\n",
    "if apply_PCA:\n",
    "    pca = PCA(n_components=2500, random_state=42)\n",
    "    X_train_pca = pca.fit_transform(X_train_final)\n",
    "    X_test_pca = pca.transform(X_test_final)\n",
    "\n",
    "    print(f'Original number of features: {X_train_final.shape[1]}')\n",
    "    print(f'Reduced number of features after PCA: {X_train_pca.shape[1]}')\n",
    "else:\n",
    "    X_train_pca = X_train_final\n",
    "    X_test_pca = X_test_final"
   ]
  },
  {
   "cell_type": "markdown",
   "metadata": {},
   "source": [
    "### Random Forest Classifier"
   ]
  },
  {
   "cell_type": "markdown",
   "metadata": {},
   "source": [
    "##### Random Forest Classifier is an ensemble learning technique that builds numerous decision trees during training and uses the most common class prediction among the trees for classification tasks. By aggregating predictions from multiple trees, it improves accuracy and resilience in making predictions."
   ]
  },
  {
   "cell_type": "code",
   "execution_count": null,
   "metadata": {},
   "outputs": [],
   "source": [
    "from sklearn.ensemble import RandomForestClassifier\n",
    "from sklearn.metrics import accuracy_score, precision_recall_fscore_support, confusion_matrix, classification_report\n",
    "from sklearn.model_selection import GridSearchCV\n",
    "\n",
    "parameters = {'max_depth':[2,10,50],\n",
    "             'n_estimators':[1,10,100,500,1000]}\n",
    "\n",
    "# Random Forest Classifier\n",
    "rf = RandomForestClassifier(n_estimators=100, random_state=42)\n",
    "\n",
    "clf = GridSearchCV(rf, parameters)\n",
    "clf.fit(X_train_pca, y_train_processed)\n",
    "clf.best_estimator_"
   ]
  },
  {
   "cell_type": "markdown",
   "metadata": {},
   "source": [
    "### Results of GridSearch CV"
   ]
  },
  {
   "cell_type": "code",
   "execution_count": null,
   "metadata": {},
   "outputs": [],
   "source": [
    "results_df = pd.DataFrame(clf.cv_results_)\n",
    "results_df = results_df.sort_values(by=[\"rank_test_score\"])\n",
    "results_df = results_df.set_index(\n",
    "    results_df[\"params\"].apply(lambda x: \"_\".join(str(val) for val in x.values()))\n",
    ").rename_axis(\"kernel\")\n",
    "results_df[[\"params\", \"rank_test_score\", \"mean_test_score\", \"std_test_score\"]]"
   ]
  },
  {
   "cell_type": "code",
   "execution_count": null,
   "metadata": {},
   "outputs": [],
   "source": [
    "model_scores = results_df.filter(regex=r\"split\\d*_test_score\")"
   ]
  },
  {
   "cell_type": "markdown",
   "metadata": {},
   "source": [
    "### Classification Report"
   ]
  },
  {
   "cell_type": "code",
   "execution_count": null,
   "metadata": {},
   "outputs": [],
   "source": [
    "rf_model = RandomForestClassifier(max_depth=10, n_estimators=1, random_state=0)\n",
    "rf_model.fit(X_train_pca, y_train_processed)\n",
    "y_pred_rf = rf_model.predict(X_test_pca)\n",
    "\n",
    "accuracy_rf = accuracy_score(y_test_processed, y_pred_rf)\n",
    "print(f'Random Forest Accuracy: {accuracy_rf:.2f}')\n",
    "print(\"Classification Report for Random Forest:\")\n",
    "print(classification_report(y_test_processed, y_pred_rf))"
   ]
  },
  {
   "cell_type": "markdown",
   "metadata": {},
   "source": [
    "### Confusion Matrix"
   ]
  },
  {
   "cell_type": "code",
   "execution_count": null,
   "metadata": {},
   "outputs": [],
   "source": [
    "# Generate and print the confusion matrix\n",
    "conf_matrix = confusion_matrix(y_test_processed, y_pred_rf)\n",
    "\n",
    "plt.figure(figsize=(10, 6))\n",
    "\n",
    "sns.heatmap(\n",
    "    conf_matrix, annot=True, fmt='d', cmap='viridis', linewidths=0.4, square=True, cbar=True,\n",
    "    xticklabels=['Chinese Apple', 'Lantana', 'Parkinsonia', 'Parthenium', \n",
    "                'Prickly acacia', 'Rubber vine', 'Siam weed', 'Snake Weed', 'Negatives'],\n",
    "    yticklabels=['Chinese Apple', 'Lantana', 'Parkinsonia', 'Parthenium', \n",
    "                'Prickly acacia', 'Rubber vine', 'Siam weed', 'Snake Weed', 'Negatives']\n",
    ")\n",
    "\n",
    "plt.xlabel('Predicted', fontsize=14, fontweight='bold')\n",
    "plt.ylabel('Actual', fontsize=14, fontweight='bold')\n",
    "plt.title('Confusion Matrix', fontsize=16, fontweight='bold')\n",
    "plt.yticks(rotation=360)\n",
    "\n",
    "plt.show()\n",
    "print(\"\\nConfusion Matrix:\\n\", conf_matrix)"
   ]
  }
 ],
 "metadata": {
  "kernelspec": {
   "display_name": "myenv",
   "language": "python",
   "name": "python3"
  },
  "language_info": {
   "codemirror_mode": {
    "name": "ipython",
    "version": 3
   },
   "file_extension": ".py",
   "mimetype": "text/x-python",
   "name": "python",
   "nbconvert_exporter": "python",
   "pygments_lexer": "ipython3",
   "version": "3.10.15"
  }
 },
 "nbformat": 4,
 "nbformat_minor": 2
}
