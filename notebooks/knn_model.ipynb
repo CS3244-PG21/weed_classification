{
 "cells": [
  {
   "cell_type": "markdown",
   "metadata": {},
   "source": [
    "# kNN"
   ]
  },
  {
   "cell_type": "code",
   "execution_count": 15,
   "metadata": {},
   "outputs": [],
   "source": [
    "import os\n",
    "import numpy as np\n",
    "import pandas as pd\n",
    "from collections import Counter\n",
    "from sklearn.model_selection import train_test_split\n",
    "from sklearn.preprocessing import LabelEncoder"
   ]
  },
  {
   "cell_type": "markdown",
   "metadata": {},
   "source": [
    "### Load Data"
   ]
  },
  {
   "cell_type": "code",
   "execution_count": 16,
   "metadata": {},
   "outputs": [],
   "source": [
    "# Load labels DataFrame\n",
    "labels_df = pd.read_csv('../labels.csv') \n",
    "image_dir = '../images'\n",
    "\n",
    "# Assuming 'Filename' and 'Species' are columns in your labels DataFrame\n",
    "image_filenames = labels_df['Filename'].values\n",
    "y = labels_df['Species'].values\n",
    "\n",
    "# Encode labels\n",
    "label_encoder = LabelEncoder()\n",
    "y_encoded = label_encoder.fit_transform(y)\n",
    "\n",
    "# Construct full image paths\n",
    "image_paths = [os.path.join(image_dir, fname) for fname in image_filenames]\n",
    "\n",
    "# Ensure images and labels are aligned\n",
    "if len(image_paths) != len(y_encoded):\n",
    "    raise ValueError(\"Number of images and labels do not match.\")\n"
   ]
  },
  {
   "cell_type": "markdown",
   "metadata": {},
   "source": [
    "### Data Splitting"
   ]
  },
  {
   "cell_type": "code",
   "execution_count": 17,
   "metadata": {},
   "outputs": [
    {
     "name": "stdout",
     "output_type": "stream",
     "text": [
      "Training label distribution: Counter({np.int64(2): 7285, np.int64(0): 900, np.int64(7): 859, np.int64(1): 851, np.int64(5): 849, np.int64(3): 825, np.int64(4): 818, np.int64(8): 813, np.int64(6): 807})\n",
      "Testing label distribution: Counter({np.int64(2): 1821, np.int64(0): 225, np.int64(7): 215, np.int64(1): 213, np.int64(5): 213, np.int64(3): 206, np.int64(4): 204, np.int64(8): 203, np.int64(6): 202})\n"
     ]
    }
   ],
   "source": [
    "# Split the data into training and test sets\n",
    "X_train_paths, X_test_paths, y_train, y_test = train_test_split(\n",
    "    image_paths, y_encoded, test_size=0.2, stratify=y_encoded, random_state=42\n",
    ")\n",
    "\n",
    "# Print label distributions\n",
    "print(\"Training label distribution:\", Counter(y_train))\n",
    "print(\"Testing label distribution:\", Counter(y_test))"
   ]
  },
  {
   "cell_type": "markdown",
   "metadata": {},
   "source": [
    "### Undersampling"
   ]
  },
  {
   "cell_type": "code",
   "execution_count": 18,
   "metadata": {},
   "outputs": [
    {
     "name": "stdout",
     "output_type": "stream",
     "text": [
      "Training label distribution after undersampling: Counter({np.int64(0): 900, np.int64(7): 859, np.int64(1): 851, np.int64(5): 849, np.int64(3): 825, np.int64(4): 818, np.int64(8): 813, np.int64(2): 807, np.int64(6): 807})\n"
     ]
    }
   ],
   "source": [
    "from imblearn.under_sampling import RandomUnderSampler\n",
    "\n",
    "# Identify the majority class in the training set\n",
    "class_counts = Counter(y_train)\n",
    "majority_class = max(class_counts, key=class_counts.get)\n",
    "\n",
    "# Determine the number of samples to keep for the majority class\n",
    "min_class_count = min(class_counts.values())\n",
    "sampling_strategy = {majority_class: min_class_count}\n",
    "\n",
    "# Prepare for undersampling\n",
    "undersampler = RandomUnderSampler(sampling_strategy=sampling_strategy, random_state=42)\n",
    "\n",
    "# Since undersampler works on arrays, convert lists to arrays and reshape\n",
    "X_train_paths_array = np.array(X_train_paths).reshape(-1, 1)\n",
    "\n",
    "# Apply undersampling\n",
    "X_resampled_paths, y_resampled = undersampler.fit_resample(X_train_paths_array, y_train)\n",
    "\n",
    "# Flatten back to 1D array\n",
    "X_resampled_paths = X_resampled_paths.flatten()\n",
    "\n",
    "# Print label distribution after undersampling\n",
    "print(\"Training label distribution after undersampling:\", Counter(y_resampled))"
   ]
  },
  {
   "cell_type": "markdown",
   "metadata": {},
   "source": [
    "### Preprocessing Function"
   ]
  },
  {
   "cell_type": "code",
   "execution_count": 19,
   "metadata": {},
   "outputs": [],
   "source": [
    "import cv2\n",
    "\n",
    "def f3(img_path, size=(128, 128), kernel_size=(5, 5), apply_edge_detection=True, edge_type='sobel'):\n",
    "    img = cv2.imread(img_path, 0)  # Load image as grayscale\n",
    "    if img is None:\n",
    "        print(f\"Warning: Unable to read image at {img_path}\")\n",
    "        return None\n",
    "    # Resize image\n",
    "    img = cv2.resize(img, size)\n",
    "    # Apply Gaussian Smoothing\n",
    "    img = cv2.GaussianBlur(img, kernel_size, 0)\n",
    "    # Apply edge detection\n",
    "    if apply_edge_detection:\n",
    "        if edge_type == 'sobel':\n",
    "            sobelx = cv2.Sobel(img, cv2.CV_64F, 1, 0, ksize=3)\n",
    "            sobely = cv2.Sobel(img, cv2.CV_64F, 0, 1, ksize=3)\n",
    "            img = cv2.magnitude(sobelx, sobely)\n",
    "        elif edge_type == 'prewitt':\n",
    "            kernelx = np.array([[1, 0, -1], [1, 0, -1], [1, 0, -1]])\n",
    "            kernely = np.array([[1, 1, 1], [0, 0, 0], [-1, -1, -1]])\n",
    "            prewittx = cv2.filter2D(img, -1, kernelx)\n",
    "            prewitty = cv2.filter2D(img, -1, kernely)\n",
    "            img = cv2.magnitude(prewittx, prewitty)\n",
    "        elif edge_type == 'canny':\n",
    "            img = cv2.Canny(img, 100, 200)\n",
    "    img = img / 255.0  # Normalize pixel values\n",
    "    img = img.flatten()\n",
    "    return img"
   ]
  },
  {
   "cell_type": "markdown",
   "metadata": {},
   "source": [
    "### Preprocess Training Images"
   ]
  },
  {
   "cell_type": "code",
   "execution_count": 20,
   "metadata": {},
   "outputs": [
    {
     "name": "stdout",
     "output_type": "stream",
     "text": [
      "Processed training data shape: (7529, 16384)\n"
     ]
    }
   ],
   "source": [
    "# Preprocess training images\n",
    "X_train_processed = []\n",
    "for path in X_resampled_paths:\n",
    "    img = f3(path)\n",
    "    if img is not None:\n",
    "        X_train_processed.append(img)\n",
    "    else:\n",
    "        # Handle missing images if necessary\n",
    "        pass\n",
    "\n",
    "X_train_processed = np.array(X_train_processed)\n",
    "y_train_processed = y_resampled  # Labels are already aligned\n",
    "\n",
    "# Ensure the number of images matches the number of labels\n",
    "if len(X_train_processed) != len(y_train_processed):\n",
    "    raise ValueError(\"Mismatch between processed training images and labels.\")\n",
    "\n",
    "print(\"Processed training data shape:\", X_train_processed.shape)"
   ]
  },
  {
   "cell_type": "markdown",
   "metadata": {},
   "source": [
    "### Preprocess Testing Images"
   ]
  },
  {
   "cell_type": "code",
   "execution_count": 21,
   "metadata": {},
   "outputs": [
    {
     "name": "stdout",
     "output_type": "stream",
     "text": [
      "Processed testing data shape: (3502, 16384)\n"
     ]
    }
   ],
   "source": [
    "# Preprocess testing images\n",
    "X_test_processed = []\n",
    "for path in X_test_paths:\n",
    "    img = f3(path)\n",
    "    if img is not None:\n",
    "        X_test_processed.append(img)\n",
    "    else:\n",
    "        # Handle missing images if necessary\n",
    "        pass\n",
    "\n",
    "X_test_processed = np.array(X_test_processed)\n",
    "y_test_processed = y_test  # Labels are already aligned\n",
    "\n",
    "# Ensure the number of images matches the number of labels\n",
    "if len(X_test_processed) != len(y_test_processed):\n",
    "    raise ValueError(\"Mismatch between processed testing images and labels.\")\n",
    "\n",
    "print(\"Processed testing data shape:\", X_test_processed.shape)"
   ]
  },
  {
   "cell_type": "markdown",
   "metadata": {},
   "source": [
    "### Apply CLAHE to training images"
   ]
  },
  {
   "cell_type": "code",
   "execution_count": 22,
   "metadata": {},
   "outputs": [],
   "source": [
    "# Reshape images to 2D\n",
    "image_height, image_width = 128, 128\n",
    "X_train_images = X_train_processed.reshape(-1, image_height, image_width)\n",
    "\n",
    "# Apply CLAHE\n",
    "clahe = cv2.createCLAHE(clipLimit=2.0, tileGridSize=(8, 8))\n",
    "X_train_clahe = np.array([\n",
    "    clahe.apply(np.uint8(img * 255)) / 255.0 for img in X_train_images\n",
    "])\n",
    "\n",
    "# Flatten images back\n",
    "X_train_final = X_train_clahe.reshape(X_train_clahe.shape[0], -1)"
   ]
  },
  {
   "cell_type": "markdown",
   "metadata": {},
   "source": [
    "### Apply CLAHE to testing images"
   ]
  },
  {
   "cell_type": "code",
   "execution_count": 23,
   "metadata": {},
   "outputs": [],
   "source": [
    "# Reshape images to 2D\n",
    "X_test_images = X_test_processed.reshape(-1, image_height, image_width)\n",
    "\n",
    "# Apply CLAHE\n",
    "X_test_clahe = np.array([\n",
    "    clahe.apply(np.uint8(img * 255)) / 255.0 for img in X_test_images\n",
    "])\n",
    "\n",
    "# Flatten images back\n",
    "X_test_final = X_test_clahe.reshape(X_test_clahe.shape[0], -1)"
   ]
  },
  {
   "cell_type": "markdown",
   "metadata": {},
   "source": [
    "### Data Preprocessing (PCA)\n"
   ]
  },
  {
   "cell_type": "code",
   "execution_count": 24,
   "metadata": {},
   "outputs": [
    {
     "ename": "KeyboardInterrupt",
     "evalue": "",
     "output_type": "error",
     "traceback": [
      "\u001b[0;31m---------------------------------------------------------------------------\u001b[0m",
      "\u001b[0;31mKeyboardInterrupt\u001b[0m                         Traceback (most recent call last)",
      "Cell \u001b[0;32mIn[24], line 4\u001b[0m\n\u001b[1;32m      1\u001b[0m \u001b[38;5;28;01mimport\u001b[39;00m \u001b[38;5;21;01mmatplotlib\u001b[39;00m\u001b[38;5;21;01m.\u001b[39;00m\u001b[38;5;21;01mpyplot\u001b[39;00m \u001b[38;5;28;01mas\u001b[39;00m \u001b[38;5;21;01mplt\u001b[39;00m\n\u001b[1;32m      2\u001b[0m \u001b[38;5;28;01mfrom\u001b[39;00m \u001b[38;5;21;01msklearn\u001b[39;00m\u001b[38;5;21;01m.\u001b[39;00m\u001b[38;5;21;01mdecomposition\u001b[39;00m \u001b[38;5;28;01mimport\u001b[39;00m PCA\n\u001b[0;32m----> 4\u001b[0m pca_full \u001b[38;5;241m=\u001b[39m \u001b[43mPCA\u001b[49m\u001b[43m(\u001b[49m\u001b[43m)\u001b[49m\u001b[38;5;241;43m.\u001b[39;49m\u001b[43mfit\u001b[49m\u001b[43m(\u001b[49m\u001b[43mX_train_final\u001b[49m\u001b[43m)\u001b[49m\n\u001b[1;32m      5\u001b[0m plt\u001b[38;5;241m.\u001b[39mfigure(figsize\u001b[38;5;241m=\u001b[39m(\u001b[38;5;241m8\u001b[39m,\u001b[38;5;241m6\u001b[39m))\n\u001b[1;32m      6\u001b[0m plt\u001b[38;5;241m.\u001b[39mplot(np\u001b[38;5;241m.\u001b[39mcumsum(pca_full\u001b[38;5;241m.\u001b[39mexplained_variance_ratio_))\n",
      "File \u001b[0;32m~/Desktop/weed_classification/myenv/lib/python3.10/site-packages/sklearn/base.py:1473\u001b[0m, in \u001b[0;36m_fit_context.<locals>.decorator.<locals>.wrapper\u001b[0;34m(estimator, *args, **kwargs)\u001b[0m\n\u001b[1;32m   1466\u001b[0m     estimator\u001b[38;5;241m.\u001b[39m_validate_params()\n\u001b[1;32m   1468\u001b[0m \u001b[38;5;28;01mwith\u001b[39;00m config_context(\n\u001b[1;32m   1469\u001b[0m     skip_parameter_validation\u001b[38;5;241m=\u001b[39m(\n\u001b[1;32m   1470\u001b[0m         prefer_skip_nested_validation \u001b[38;5;129;01mor\u001b[39;00m global_skip_validation\n\u001b[1;32m   1471\u001b[0m     )\n\u001b[1;32m   1472\u001b[0m ):\n\u001b[0;32m-> 1473\u001b[0m     \u001b[38;5;28;01mreturn\u001b[39;00m \u001b[43mfit_method\u001b[49m\u001b[43m(\u001b[49m\u001b[43mestimator\u001b[49m\u001b[43m,\u001b[49m\u001b[43m \u001b[49m\u001b[38;5;241;43m*\u001b[39;49m\u001b[43margs\u001b[49m\u001b[43m,\u001b[49m\u001b[43m \u001b[49m\u001b[38;5;241;43m*\u001b[39;49m\u001b[38;5;241;43m*\u001b[39;49m\u001b[43mkwargs\u001b[49m\u001b[43m)\u001b[49m\n",
      "File \u001b[0;32m~/Desktop/weed_classification/myenv/lib/python3.10/site-packages/sklearn/decomposition/_pca.py:448\u001b[0m, in \u001b[0;36mPCA.fit\u001b[0;34m(self, X, y)\u001b[0m\n\u001b[1;32m    430\u001b[0m \u001b[38;5;129m@_fit_context\u001b[39m(prefer_skip_nested_validation\u001b[38;5;241m=\u001b[39m\u001b[38;5;28;01mTrue\u001b[39;00m)\n\u001b[1;32m    431\u001b[0m \u001b[38;5;28;01mdef\u001b[39;00m \u001b[38;5;21mfit\u001b[39m(\u001b[38;5;28mself\u001b[39m, X, y\u001b[38;5;241m=\u001b[39m\u001b[38;5;28;01mNone\u001b[39;00m):\n\u001b[1;32m    432\u001b[0m \u001b[38;5;250m    \u001b[39m\u001b[38;5;124;03m\"\"\"Fit the model with X.\u001b[39;00m\n\u001b[1;32m    433\u001b[0m \n\u001b[1;32m    434\u001b[0m \u001b[38;5;124;03m    Parameters\u001b[39;00m\n\u001b[0;32m   (...)\u001b[0m\n\u001b[1;32m    446\u001b[0m \u001b[38;5;124;03m        Returns the instance itself.\u001b[39;00m\n\u001b[1;32m    447\u001b[0m \u001b[38;5;124;03m    \"\"\"\u001b[39;00m\n\u001b[0;32m--> 448\u001b[0m     \u001b[38;5;28;43mself\u001b[39;49m\u001b[38;5;241;43m.\u001b[39;49m\u001b[43m_fit\u001b[49m\u001b[43m(\u001b[49m\u001b[43mX\u001b[49m\u001b[43m)\u001b[49m\n\u001b[1;32m    449\u001b[0m     \u001b[38;5;28;01mreturn\u001b[39;00m \u001b[38;5;28mself\u001b[39m\n",
      "File \u001b[0;32m~/Desktop/weed_classification/myenv/lib/python3.10/site-packages/sklearn/decomposition/_pca.py:547\u001b[0m, in \u001b[0;36mPCA._fit\u001b[0;34m(self, X)\u001b[0m\n\u001b[1;32m    545\u001b[0m \u001b[38;5;66;03m# Call different fits for either full or truncated SVD\u001b[39;00m\n\u001b[1;32m    546\u001b[0m \u001b[38;5;28;01mif\u001b[39;00m \u001b[38;5;28mself\u001b[39m\u001b[38;5;241m.\u001b[39m_fit_svd_solver \u001b[38;5;129;01min\u001b[39;00m (\u001b[38;5;124m\"\u001b[39m\u001b[38;5;124mfull\u001b[39m\u001b[38;5;124m\"\u001b[39m, \u001b[38;5;124m\"\u001b[39m\u001b[38;5;124mcovariance_eigh\u001b[39m\u001b[38;5;124m\"\u001b[39m):\n\u001b[0;32m--> 547\u001b[0m     \u001b[38;5;28;01mreturn\u001b[39;00m \u001b[38;5;28;43mself\u001b[39;49m\u001b[38;5;241;43m.\u001b[39;49m\u001b[43m_fit_full\u001b[49m\u001b[43m(\u001b[49m\u001b[43mX\u001b[49m\u001b[43m,\u001b[49m\u001b[43m \u001b[49m\u001b[43mn_components\u001b[49m\u001b[43m,\u001b[49m\u001b[43m \u001b[49m\u001b[43mxp\u001b[49m\u001b[43m,\u001b[49m\u001b[43m \u001b[49m\u001b[43mis_array_api_compliant\u001b[49m\u001b[43m)\u001b[49m\n\u001b[1;32m    548\u001b[0m \u001b[38;5;28;01melif\u001b[39;00m \u001b[38;5;28mself\u001b[39m\u001b[38;5;241m.\u001b[39m_fit_svd_solver \u001b[38;5;129;01min\u001b[39;00m [\u001b[38;5;124m\"\u001b[39m\u001b[38;5;124marpack\u001b[39m\u001b[38;5;124m\"\u001b[39m, \u001b[38;5;124m\"\u001b[39m\u001b[38;5;124mrandomized\u001b[39m\u001b[38;5;124m\"\u001b[39m]:\n\u001b[1;32m    549\u001b[0m     \u001b[38;5;28;01mreturn\u001b[39;00m \u001b[38;5;28mself\u001b[39m\u001b[38;5;241m.\u001b[39m_fit_truncated(X, n_components, xp)\n",
      "File \u001b[0;32m~/Desktop/weed_classification/myenv/lib/python3.10/site-packages/sklearn/decomposition/_pca.py:588\u001b[0m, in \u001b[0;36mPCA._fit_full\u001b[0;34m(self, X, n_components, xp, is_array_api_compliant)\u001b[0m\n\u001b[1;32m    578\u001b[0m x_is_centered \u001b[38;5;241m=\u001b[39m \u001b[38;5;129;01mnot\u001b[39;00m \u001b[38;5;28mself\u001b[39m\u001b[38;5;241m.\u001b[39mcopy\n\u001b[1;32m    580\u001b[0m \u001b[38;5;28;01mif\u001b[39;00m \u001b[38;5;129;01mnot\u001b[39;00m is_array_api_compliant:\n\u001b[1;32m    581\u001b[0m     \u001b[38;5;66;03m# Use scipy.linalg with NumPy/SciPy inputs for the sake of not\u001b[39;00m\n\u001b[1;32m    582\u001b[0m     \u001b[38;5;66;03m# introducing unanticipated behavior changes. In the long run we\u001b[39;00m\n\u001b[0;32m   (...)\u001b[0m\n\u001b[1;32m    586\u001b[0m     \u001b[38;5;66;03m# solver by default though (assuming both are built against the\u001b[39;00m\n\u001b[1;32m    587\u001b[0m     \u001b[38;5;66;03m# same BLAS).\u001b[39;00m\n\u001b[0;32m--> 588\u001b[0m     U, S, Vt \u001b[38;5;241m=\u001b[39m \u001b[43mlinalg\u001b[49m\u001b[38;5;241;43m.\u001b[39;49m\u001b[43msvd\u001b[49m\u001b[43m(\u001b[49m\u001b[43mX_centered\u001b[49m\u001b[43m,\u001b[49m\u001b[43m \u001b[49m\u001b[43mfull_matrices\u001b[49m\u001b[38;5;241;43m=\u001b[39;49m\u001b[38;5;28;43;01mFalse\u001b[39;49;00m\u001b[43m)\u001b[49m\n\u001b[1;32m    589\u001b[0m \u001b[38;5;28;01melse\u001b[39;00m:\n\u001b[1;32m    590\u001b[0m     U, S, Vt \u001b[38;5;241m=\u001b[39m xp\u001b[38;5;241m.\u001b[39mlinalg\u001b[38;5;241m.\u001b[39msvd(X_centered, full_matrices\u001b[38;5;241m=\u001b[39m\u001b[38;5;28;01mFalse\u001b[39;00m)\n",
      "File \u001b[0;32m~/Desktop/weed_classification/myenv/lib/python3.10/site-packages/scipy/linalg/_decomp_svd.py:160\u001b[0m, in \u001b[0;36msvd\u001b[0;34m(a, full_matrices, compute_uv, overwrite_a, check_finite, lapack_driver)\u001b[0m\n\u001b[1;32m    156\u001b[0m lwork \u001b[38;5;241m=\u001b[39m _compute_lwork(gesXd_lwork, a1\u001b[38;5;241m.\u001b[39mshape[\u001b[38;5;241m0\u001b[39m], a1\u001b[38;5;241m.\u001b[39mshape[\u001b[38;5;241m1\u001b[39m],\n\u001b[1;32m    157\u001b[0m                        compute_uv\u001b[38;5;241m=\u001b[39mcompute_uv, full_matrices\u001b[38;5;241m=\u001b[39mfull_matrices)\n\u001b[1;32m    159\u001b[0m \u001b[38;5;66;03m# perform decomposition\u001b[39;00m\n\u001b[0;32m--> 160\u001b[0m u, s, v, info \u001b[38;5;241m=\u001b[39m \u001b[43mgesXd\u001b[49m\u001b[43m(\u001b[49m\u001b[43ma1\u001b[49m\u001b[43m,\u001b[49m\u001b[43m \u001b[49m\u001b[43mcompute_uv\u001b[49m\u001b[38;5;241;43m=\u001b[39;49m\u001b[43mcompute_uv\u001b[49m\u001b[43m,\u001b[49m\u001b[43m \u001b[49m\u001b[43mlwork\u001b[49m\u001b[38;5;241;43m=\u001b[39;49m\u001b[43mlwork\u001b[49m\u001b[43m,\u001b[49m\n\u001b[1;32m    161\u001b[0m \u001b[43m                      \u001b[49m\u001b[43mfull_matrices\u001b[49m\u001b[38;5;241;43m=\u001b[39;49m\u001b[43mfull_matrices\u001b[49m\u001b[43m,\u001b[49m\u001b[43m \u001b[49m\u001b[43moverwrite_a\u001b[49m\u001b[38;5;241;43m=\u001b[39;49m\u001b[43moverwrite_a\u001b[49m\u001b[43m)\u001b[49m\n\u001b[1;32m    163\u001b[0m \u001b[38;5;28;01mif\u001b[39;00m info \u001b[38;5;241m>\u001b[39m \u001b[38;5;241m0\u001b[39m:\n\u001b[1;32m    164\u001b[0m     \u001b[38;5;28;01mraise\u001b[39;00m LinAlgError(\u001b[38;5;124m\"\u001b[39m\u001b[38;5;124mSVD did not converge\u001b[39m\u001b[38;5;124m\"\u001b[39m)\n",
      "\u001b[0;31mKeyboardInterrupt\u001b[0m: "
     ]
    }
   ],
   "source": [
    "import matplotlib.pyplot as plt\n",
    "from sklearn.decomposition import PCA\n",
    "\n",
    "pca_full = PCA().fit(X_train_final)\n",
    "plt.figure(figsize=(8,6))\n",
    "plt.plot(np.cumsum(pca_full.explained_variance_ratio_))\n",
    "plt.xlabel('Number of Components')\n",
    "plt.ylabel('Cumulative Explained Variance')\n",
    "plt.title('PCA Explained Variance')\n",
    "plt.grid(True)\n",
    "plt.show()"
   ]
  },
  {
   "cell_type": "markdown",
   "metadata": {},
   "source": [
    "##### As more principal components are included, the cumulative explained variance increases. The graph helps identify the optimal number of components to use for dimensionality reduction while retaining most of the variance. "
   ]
  },
  {
   "cell_type": "code",
   "execution_count": 25,
   "metadata": {},
   "outputs": [],
   "source": [
    "apply_PCA = False\n",
    "\n",
    "if apply_PCA:\n",
    "    pca = PCA(n_components=2500, random_state=42)\n",
    "    X_train_pca = pca.fit_transform(X_train_final)\n",
    "    X_test_pca = pca.transform(X_test_final)\n",
    "\n",
    "    print(f'Original number of features: {X_train_final.shape[1]}')\n",
    "    print(f'Reduced number of features after PCA: {X_train_pca.shape[1]}')\n",
    "else:\n",
    "    X_train_pca = X_train_final\n",
    "    X_test_pca = X_test_final"
   ]
  },
  {
   "cell_type": "markdown",
   "metadata": {},
   "source": [
    "### kNN\n"
   ]
  },
  {
   "cell_type": "markdown",
   "metadata": {},
   "source": [
    "##### k-Nearest Neighbors(kNN) is a simple, non-parametric machine learning algorithm commonly used for both classification and regression tasks. It operates based on the principle of similarity, where the outcome for a given data point is influenced by the outcomes of its nearest neighbors in the feature space. "
   ]
  },
  {
   "cell_type": "code",
   "execution_count": 26,
   "metadata": {},
   "outputs": [
    {
     "name": "stdout",
     "output_type": "stream",
     "text": [
      "kNN Accuracy with k=1: 0.4649\n",
      "kNN Accuracy with k=3: 0.4960\n",
      "kNN Accuracy with k=5: 0.4977\n",
      "kNN Accuracy with k=7: 0.5054\n",
      "kNN Accuracy with k=9: 0.5086\n",
      "kNN Accuracy with k=11: 0.5128\n",
      "kNN Accuracy with k=13: 0.5134\n",
      "kNN Accuracy with k=15: 0.5126\n"
     ]
    }
   ],
   "source": [
    "from sklearn.neighbors import KNeighborsClassifier\n",
    "from sklearn.metrics import accuracy_score, classification_report\n",
    "\n",
    "k_values = [1, 3, 5, 7, 9, 11, 13, 15]\n",
    "\n",
    "for k in k_values:\n",
    "    knn = KNeighborsClassifier(n_neighbors=k, n_jobs=-1)\n",
    "    knn.fit(X_train_pca, y_train_processed)\n",
    "    y_pred_knn = knn.predict(X_test_pca)\n",
    "    accuracy_knn = accuracy_score(y_test, y_pred_knn)\n",
    "    print(f'kNN Accuracy with k={k}: {accuracy_knn:.4f}')"
   ]
  },
  {
   "cell_type": "markdown",
   "metadata": {},
   "source": [
    "### Classification Report"
   ]
  },
  {
   "cell_type": "code",
   "execution_count": 27,
   "metadata": {},
   "outputs": [
    {
     "name": "stdout",
     "output_type": "stream",
     "text": [
      "Macro-averaged Precision: 0.09\n",
      "Macro-averaged Recall: 0.11\n",
      "Macro-averaged F1 score: 0.08\n",
      "                precision    recall  f1-score   support\n",
      "\n",
      " Chinese Apple       0.00      0.00      0.00       225\n",
      "       Lantana       0.00      0.00      0.00       213\n",
      "   Parkinsonia       0.52      0.99      0.68      1821\n",
      "    Parthenium       0.25      0.02      0.04       206\n",
      "Prickly acacia       0.00      0.00      0.00       204\n",
      "   Rubber vine       0.00      0.00      0.00       213\n",
      "     Siam weed       0.00      0.00      0.00       202\n",
      "    Snake Weed       0.00      0.00      0.00       215\n",
      "     Negatives       0.00      0.00      0.00       203\n",
      "\n",
      "      accuracy                           0.51      3502\n",
      "     macro avg       0.09      0.11      0.08      3502\n",
      "  weighted avg       0.29      0.51      0.36      3502\n",
      "\n"
     ]
    },
    {
     "name": "stderr",
     "output_type": "stream",
     "text": [
      "/Users/ichaeyeon/Desktop/weed_classification/myenv/lib/python3.10/site-packages/sklearn/metrics/_classification.py:1531: UndefinedMetricWarning: Precision is ill-defined and being set to 0.0 in labels with no predicted samples. Use `zero_division` parameter to control this behavior.\n",
      "  _warn_prf(average, modifier, f\"{metric.capitalize()} is\", len(result))\n",
      "/Users/ichaeyeon/Desktop/weed_classification/myenv/lib/python3.10/site-packages/sklearn/metrics/_classification.py:1531: UndefinedMetricWarning: Precision is ill-defined and being set to 0.0 in labels with no predicted samples. Use `zero_division` parameter to control this behavior.\n",
      "  _warn_prf(average, modifier, f\"{metric.capitalize()} is\", len(result))\n",
      "/Users/ichaeyeon/Desktop/weed_classification/myenv/lib/python3.10/site-packages/sklearn/metrics/_classification.py:1531: UndefinedMetricWarning: Precision is ill-defined and being set to 0.0 in labels with no predicted samples. Use `zero_division` parameter to control this behavior.\n",
      "  _warn_prf(average, modifier, f\"{metric.capitalize()} is\", len(result))\n",
      "/Users/ichaeyeon/Desktop/weed_classification/myenv/lib/python3.10/site-packages/sklearn/metrics/_classification.py:1531: UndefinedMetricWarning: Precision is ill-defined and being set to 0.0 in labels with no predicted samples. Use `zero_division` parameter to control this behavior.\n",
      "  _warn_prf(average, modifier, f\"{metric.capitalize()} is\", len(result))\n"
     ]
    }
   ],
   "source": [
    "from sklearn.metrics import precision_recall_fscore_support, confusion_matrix, classification_report\n",
    "import seaborn as sns\n",
    "import matplotlib.pyplot as plt\n",
    "\n",
    "\n",
    "# Make kNN predictions with k=13\n",
    "knn = KNeighborsClassifier(n_neighbors=13, n_jobs=-1)\n",
    "knn.fit(X_train_pca, y_train_processed)\n",
    "y_pred_knn = knn.predict(X_test_pca)\n",
    "\n",
    "# Evaluate using macro-averaged precision, recall, and F1 score\n",
    "precision, recall, f1, _ = precision_recall_fscore_support(y_test, y_pred_knn, average='macro')\n",
    "\n",
    "# Define the label mapping\n",
    "target_names = ['Chinese Apple', 'Lantana', 'Parkinsonia', 'Parthenium', \n",
    "                'Prickly acacia', 'Rubber vine', 'Siam weed', 'Snake Weed', 'Negatives']\n",
    "\n",
    "# Output the evaluation metrics\n",
    "print(f\"Macro-averaged Precision: {precision:.2f}\")\n",
    "print(f\"Macro-averaged Recall: {recall:.2f}\")\n",
    "print(f\"Macro-averaged F1 score: {f1:.2f}\")\n",
    "\n",
    "# Classification Report\n",
    "print(classification_report(y_test,y_pred_knn,target_names=target_names))"
   ]
  },
  {
   "cell_type": "markdown",
   "metadata": {},
   "source": [
    "### Confusion Matrix"
   ]
  },
  {
   "cell_type": "code",
   "execution_count": 28,
   "metadata": {},
   "outputs": [
    {
     "data": {
      "image/png": "[encoded data removed]",
      "text/plain": [
       "<Figure size 1000x600 with 2 Axes>"
      ]
     },
     "metadata": {},
     "output_type": "display_data"
    },
    {
     "name": "stdout",
     "output_type": "stream",
     "text": [
      "\n",
      "Confusion Matrix:\n",
      " [[   0    0  219    0    0    0    0    6    0]\n",
      " [   0    0  208    3    0    0    0    2    0]\n",
      " [   0    0 1794    2    0    0    0   25    0]\n",
      " [   0    0  197    4    0    0    0    5    0]\n",
      " [   0    1  194    3    0    0    0    6    0]\n",
      " [   0    0  207    3    0    0    0    3    0]\n",
      " [   0    0  197    1    0    0    0    4    0]\n",
      " [   0    0  215    0    0    0    0    0    0]\n",
      " [   0    0  200    0    0    0    0    3    0]]\n"
     ]
    }
   ],
   "source": [
    "# Generate and print the confusion matrix\n",
    "conf_matrix = confusion_matrix(y_test, y_pred_knn)\n",
    "\n",
    "plt.figure(figsize=(10, 6))\n",
    "\n",
    "sns.heatmap(\n",
    "    conf_matrix, annot=True, fmt='d', cmap='viridis', linewidths=0.4, square=True, cbar=True,\n",
    "    xticklabels=['Chinese Apple', 'Lantana', 'Parkinsonia', 'Parthenium', \n",
    "                'Prickly acacia', 'Rubber vine', 'Siam weed', 'Snake Weed', 'Negatives'],\n",
    "    yticklabels=['Chinese Apple', 'Lantana', 'Parkinsonia', 'Parthenium', \n",
    "                'Prickly acacia', 'Rubber vine', 'Siam weed', 'Snake Weed', 'Negatives']\n",
    ")\n",
    "\n",
    "plt.xlabel('Predicted', fontsize=14, fontweight='bold')\n",
    "plt.ylabel('Actual', fontsize=14, fontweight='bold')\n",
    "plt.title('Confusion Matrix', fontsize=16, fontweight='bold')\n",
    "plt.yticks(rotation=360)\n",
    "\n",
    "plt.show()\n",
    "print(\"\\nConfusion Matrix:\\n\", conf_matrix)"
   ]
  },
  {
   "cell_type": "markdown",
   "metadata": {},
   "source": [
    "### Hyperparameter Tuning for kNN"
   ]
  },
  {
   "cell_type": "code",
   "execution_count": null,
   "metadata": {},
   "outputs": [],
   "source": [
    "from sklearn.model_selection import RandomizedSearchCV\n",
    "\n",
    "param_distributions_knn = {\n",
    "    'n_neighbors': np.arange(1, 21),  # Focused range for k\n",
    "    'weights': ['uniform', 'distance'],\n",
    "    'metric': ['euclidean', 'manhattan']\n",
    "}\n",
    "\n",
    "knn = KNeighborsClassifier(n_jobs=-1)\n",
    "random_search_knn = RandomizedSearchCV(knn, param_distributions_knn, \n",
    "                                       n_iter=20,  # Reduced number of random combinations\n",
    "                                       cv=3, scoring='accuracy', n_jobs=-1, random_state=42)\n",
    "random_search_knn.fit(X_train_pca, y_resampled)\n",
    "\n",
    "print(\"Best parameters for kNN:\", random_search_knn.best_params_)\n",
    "\n",
    "# Evaluate on test set\n",
    "best_knn = random_search_knn.best_estimator_\n",
    "y_pred_knn = best_knn.predict(X_test_pca)\n",
    "accuracy_knn = accuracy_score(y_test, y_pred_knn)\n",
    "print(f'Test Accuracy for best kNN: {accuracy_knn:.4f}')\n",
    "print(\"Classification Report for best kNN:\")\n",
    "print(classification_report(y_test, y_pred_knn))\n"
   ]
  }
 ],
 "metadata": {
  "kernelspec": {
   "display_name": "myenv",
   "language": "python",
   "name": "python3"
  },
  "language_info": {
   "codemirror_mode": {
    "name": "ipython",
    "version": 3
   },
   "file_extension": ".py",
   "mimetype": "text/x-python",
   "name": "python",
   "nbconvert_exporter": "python",
   "pygments_lexer": "ipython3",
   "version": "3.10.15"
  }
 },
 "nbformat": 4,
 "nbformat_minor": 2
}
