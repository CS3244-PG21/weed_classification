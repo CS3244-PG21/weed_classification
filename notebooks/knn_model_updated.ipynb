{
 "cells": [
  {
   "cell_type": "code",
   "execution_count": 1,
   "metadata": {},
   "outputs": [],
   "source": [
    "import os\n",
    "import pandas as pd\n",
    "import numpy as np\n",
    "import tensorflow as tf\n",
    "from imblearn.under_sampling import RandomUnderSampler\n",
    "from collections import Counter\n",
    "from sklearn.model_selection import train_test_split"
   ]
  },
  {
   "cell_type": "markdown",
   "metadata": {},
   "source": [
    "# Load data"
   ]
  },
  {
   "cell_type": "code",
   "execution_count": 2,
   "metadata": {},
   "outputs": [
    {
     "data": {
      "text/html": [
       "<div>\n",
       "<style scoped>\n",
       "    .dataframe tbody tr th:only-of-type {\n",
       "        vertical-align: middle;\n",
       "    }\n",
       "\n",
       "    .dataframe tbody tr th {\n",
       "        vertical-align: top;\n",
       "    }\n",
       "\n",
       "    .dataframe thead th {\n",
       "        text-align: right;\n",
       "    }\n",
       "</style>\n",
       "<table border=\"1\" class=\"dataframe\">\n",
       "  <thead>\n",
       "    <tr style=\"text-align: right;\">\n",
       "      <th></th>\n",
       "      <th>Filename</th>\n",
       "      <th>Label</th>\n",
       "      <th>Species</th>\n",
       "    </tr>\n",
       "  </thead>\n",
       "  <tbody>\n",
       "    <tr>\n",
       "      <th>0</th>\n",
       "      <td>20160928-140314-0.jpg</td>\n",
       "      <td>0</td>\n",
       "      <td>Chinee apple</td>\n",
       "    </tr>\n",
       "    <tr>\n",
       "      <th>1</th>\n",
       "      <td>20160928-140337-0.jpg</td>\n",
       "      <td>0</td>\n",
       "      <td>Chinee apple</td>\n",
       "    </tr>\n",
       "    <tr>\n",
       "      <th>2</th>\n",
       "      <td>20160928-140731-0.jpg</td>\n",
       "      <td>0</td>\n",
       "      <td>Chinee apple</td>\n",
       "    </tr>\n",
       "    <tr>\n",
       "      <th>3</th>\n",
       "      <td>20160928-140747-0.jpg</td>\n",
       "      <td>0</td>\n",
       "      <td>Chinee apple</td>\n",
       "    </tr>\n",
       "    <tr>\n",
       "      <th>4</th>\n",
       "      <td>20160928-141107-0.jpg</td>\n",
       "      <td>0</td>\n",
       "      <td>Chinee apple</td>\n",
       "    </tr>\n",
       "  </tbody>\n",
       "</table>\n",
       "</div>"
      ],
      "text/plain": [
       "                Filename  Label       Species\n",
       "0  20160928-140314-0.jpg      0  Chinee apple\n",
       "1  20160928-140337-0.jpg      0  Chinee apple\n",
       "2  20160928-140731-0.jpg      0  Chinee apple\n",
       "3  20160928-140747-0.jpg      0  Chinee apple\n",
       "4  20160928-141107-0.jpg      0  Chinee apple"
      ]
     },
     "execution_count": 2,
     "metadata": {},
     "output_type": "execute_result"
    }
   ],
   "source": [
    "# File paths\n",
    "image_dir = '../images'\n",
    "labels_df = pd.read_csv('../labels.csv')\n",
    "\n",
    "# Extract file names and labels\n",
    "image_filenames = labels_df['Filename'].values\n",
    "y = labels_df['Label'].values\n",
    "\n",
    "# Construct full image paths\n",
    "image_paths = [os.path.join(image_dir, fname) for fname in image_filenames]\n",
    "\n",
    "# Ensure images and labels are aligned\n",
    "if len(image_paths) != len(y):\n",
    "    raise ValueError(\"Number of images and labels do not match.\")\n",
    "\n",
    "labels_df.head()"
   ]
  },
  {
   "cell_type": "markdown",
   "metadata": {},
   "source": [
    "# Data Inspection"
   ]
  },
  {
   "cell_type": "code",
   "execution_count": 3,
   "metadata": {},
   "outputs": [],
   "source": [
    "import pandas as pd\n",
    "import matplotlib.pyplot as plt\n",
    "import seaborn as sns"
   ]
  },
  {
   "cell_type": "code",
   "execution_count": 4,
   "metadata": {},
   "outputs": [
    {
     "name": "stdout",
     "output_type": "stream",
     "text": [
      "Dataframe Information:\n",
      "<class 'pandas.core.frame.DataFrame'>\n",
      "RangeIndex: 17509 entries, 0 to 17508\n",
      "Data columns (total 3 columns):\n",
      " #   Column    Non-Null Count  Dtype \n",
      "---  ------    --------------  ----- \n",
      " 0   Filename  17509 non-null  object\n",
      " 1   Label     17509 non-null  int64 \n",
      " 2   Species   17509 non-null  object\n",
      "dtypes: int64(1), object(2)\n",
      "memory usage: 410.5+ KB\n",
      "None\n"
     ]
    }
   ],
   "source": [
    "# 1. Data info\n",
    "print(\"Dataframe Information:\")\n",
    "print(labels_df.info())"
   ]
  },
  {
   "cell_type": "code",
   "execution_count": 5,
   "metadata": {},
   "outputs": [
    {
     "name": "stdout",
     "output_type": "stream",
     "text": [
      "\n",
      "Number of duplicate filenames: 0\n"
     ]
    }
   ],
   "source": [
    "# 2. Check for duplicates in the 'Filename' column (if any)\n",
    "duplicates = labels_df[labels_df.duplicated(subset=['Filename'])]\n",
    "print(f\"\\nNumber of duplicate filenames: {len(duplicates)}\")\n",
    "if len(duplicates) > 0:\n",
    "    print(duplicates.head())"
   ]
  },
  {
   "cell_type": "code",
   "execution_count": 6,
   "metadata": {},
   "outputs": [
    {
     "name": "stdout",
     "output_type": "stream",
     "text": [
      " Label        Species\n",
      "     0   Chinee apple\n",
      "     1        Lantana\n",
      "     2    Parkinsonia\n",
      "     3     Parthenium\n",
      "     4 Prickly acacia\n",
      "     5    Rubber vine\n",
      "     6      Siam weed\n",
      "     7     Snake weed\n",
      "     8       Negative\n"
     ]
    }
   ],
   "source": [
    "# 3. Corresponding species to each label\n",
    "pair = labels_df[['Label', 'Species']].drop_duplicates().sort_values(by='Label')\n",
    "print(pair.to_string(index=False))"
   ]
  },
  {
   "cell_type": "code",
   "execution_count": 7,
   "metadata": {},
   "outputs": [
    {
     "name": "stdout",
     "output_type": "stream",
     "text": [
      " Label        Species  Count\n",
      "     0   Chinee apple   1125\n",
      "     1        Lantana   1064\n",
      "     2    Parkinsonia   1031\n",
      "     3     Parthenium   1022\n",
      "     4 Prickly acacia   1062\n",
      "     5    Rubber vine   1009\n",
      "     6      Siam weed   1074\n",
      "     7     Snake weed   1016\n",
      "     8       Negative   9106\n"
     ]
    },
    {
     "data": {
      "image/png": "[encoded data removed]",
      "text/plain": [
       "<Figure size 1000x600 with 1 Axes>"
      ]
     },
     "metadata": {},
     "output_type": "display_data"
    }
   ],
   "source": [
    "# 4. Class distribution\n",
    "\n",
    "pair_count = labels_df.groupby(['Label', 'Species']).size().reset_index(name='Count')\n",
    "pair_count_sorted = pair_count.sort_values(by='Label')\n",
    "\n",
    "print(pair_count_sorted.to_string(index=False))\n",
    "\n",
    "plt.figure(figsize=(10, 6))\n",
    "sns.countplot(x='Species', data=labels_df, hue='Species', palette='Set2')\n",
    "plt.title('Class Distribution of Species')\n",
    "plt.xlabel('Species')\n",
    "plt.ylabel('Count')\n",
    "plt.xticks(rotation=45)\n",
    "plt.show()"
   ]
  },
  {
   "cell_type": "markdown",
   "metadata": {},
   "source": [
    "To mitigate class imbalance, I will randomly select Negative instances (Label is 8) to balance with other classes."
   ]
  },
  {
   "cell_type": "code",
   "execution_count": 8,
   "metadata": {},
   "outputs": [],
   "source": [
    "# Calculate the average number of rows for labels 0 to 7\n",
    "filtered_df = labels_df[labels_df['Label'].between(0, 7)]\n",
    "label_counts = filtered_df['Label'].value_counts()\n",
    "average_count = int(label_counts.mean())  # Convert to integer for sampling\n",
    "\n",
    "# Filter rows with label 8\n",
    "negative_df = labels_df[labels_df['Label'] == 8]\n",
    "\n",
    "# Randomly select `average_count` rows from label 8\n",
    "selected_negative = negative_df.sample(n=average_count, random_state=42)\n",
    "\n",
    "# Combine the selected label 8 rows with the rest of the data (excluding extra label 8 rows)\n",
    "labels_df = pd.concat([filtered_df, selected_negative])\n",
    "\n",
    "# Extract file names and labels\n",
    "image_filenames = labels_df['Filename'].values\n",
    "y = labels_df['Label'].values\n",
    "\n",
    "# Construct full image paths\n",
    "image_paths = [os.path.join(image_dir, fname) for fname in image_filenames]\n",
    "\n",
    "# Ensure images and labels are aligned\n",
    "if len(image_paths) != len(y):\n",
    "    raise ValueError(\"Number of images and labels do not match.\")"
   ]
  },
  {
   "cell_type": "code",
   "execution_count": 9,
   "metadata": {},
   "outputs": [
    {
     "name": "stdout",
     "output_type": "stream",
     "text": [
      " Label        Species  Count\n",
      "     0   Chinee apple   1125\n",
      "     1        Lantana   1064\n",
      "     2    Parkinsonia   1031\n",
      "     3     Parthenium   1022\n",
      "     4 Prickly acacia   1062\n",
      "     5    Rubber vine   1009\n",
      "     6      Siam weed   1074\n",
      "     7     Snake weed   1016\n",
      "     8       Negative   1050\n"
     ]
    }
   ],
   "source": [
    "# Check the distribution after balancing the dataset\n",
    "\n",
    "pair_count = labels_df.groupby(['Label', 'Species']).size().reset_index(name='Count')\n",
    "pair_count_sorted = pair_count.sort_values(by='Label')\n",
    "\n",
    "print(pair_count_sorted.to_string(index=False))\n"
   ]
  },
  {
   "cell_type": "markdown",
   "metadata": {},
   "source": [
    "# Train test split\n",
    "\n",
    "I didn't split train data into train and validation dataset to utilize cross validation later when training models."
   ]
  },
  {
   "cell_type": "code",
   "execution_count": 10,
   "metadata": {},
   "outputs": [
    {
     "name": "stdout",
     "output_type": "stream",
     "text": [
      "Training dataset distribution:\n",
      " Label  Count        Species\n",
      "     0    900   Chinee apple\n",
      "     6    859      Siam weed\n",
      "     1    851        Lantana\n",
      "     4    849 Prickly acacia\n",
      "     8    840       Negative\n",
      "     2    825    Parkinsonia\n",
      "     3    818     Parthenium\n",
      "     7    813     Snake weed\n",
      "     5    807    Rubber vine\n",
      "\n",
      "Testing dataset distribution:\n",
      " Label  Count        Species\n",
      "     0    225   Chinee apple\n",
      "     6    215      Siam weed\n",
      "     4    213 Prickly acacia\n",
      "     1    213        Lantana\n",
      "     8    210       Negative\n",
      "     2    206    Parkinsonia\n",
      "     3    204     Parthenium\n",
      "     7    203     Snake weed\n",
      "     5    202    Rubber vine\n"
     ]
    }
   ],
   "source": [
    "# Split into training and testing datasets\n",
    "X_train, X_test, y_train, y_test = train_test_split(image_paths, y, test_size=0.2, stratify=y, random_state=42)\n",
    "\n",
    "# Create label-to-species mapping for displaying label counts\n",
    "label_to_species = dict(zip(labels_df['Label'], labels_df['Species']))\n",
    "\n",
    "# Label distribution\n",
    "def print_label_distribution(y_train, y_test, label_to_species):\n",
    "    # Create label counts for train and test datasets\n",
    "    train_label_counts = pd.Series(y_train).value_counts().reset_index()\n",
    "    test_label_counts = pd.Series(y_test).value_counts().reset_index()\n",
    "\n",
    "    # Rename columns\n",
    "    train_label_counts.columns = ['Label', 'Count']\n",
    "    test_label_counts.columns = ['Label', 'Count']\n",
    "\n",
    "    # Map species to the label counts\n",
    "    train_label_counts['Species'] = train_label_counts['Label'].map(label_to_species)\n",
    "    test_label_counts['Species'] = test_label_counts['Label'].map(label_to_species)\n",
    "\n",
    "    # Display the distributions\n",
    "    print(\"Training dataset distribution:\")\n",
    "    print(train_label_counts.to_string(index=False))\n",
    "\n",
    "    print(\"\\nTesting dataset distribution:\")\n",
    "    print(test_label_counts.to_string(index=False))\n",
    "\n",
    "print_label_distribution(y_train, y_test, label_to_species)"
   ]
  },
  {
   "cell_type": "markdown",
   "metadata": {},
   "source": [
    "# Pre-processing (resizing, normalization, edge detection)"
   ]
  },
  {
   "cell_type": "code",
   "execution_count": 11,
   "metadata": {},
   "outputs": [],
   "source": [
    "import tensorflow as tf\n",
    "import numpy as np\n",
    "import cv2  # For edge detection\n",
    "\n",
    "# Function to load and decode images\n",
    "def load_image(image_path):\n",
    "    image = tf.io.read_file(image_path)\n",
    "    image = tf.image.decode_jpeg(image, channels=3)  # Decode as RGB image\n",
    "    return image\n",
    "\n",
    "# Preprocess image: resize and normalize\n",
    "def preprocess_image(image, target_size=(224, 224)):\n",
    "    image = tf.image.resize(image, target_size)  # Resize image to the target size\n",
    "    image = image / 255.0  # Normalize to [0, 1]\n",
    "    return image\n",
    "\n",
    "# Edge detection using Canny or Sobel\n",
    "def edge_detection(image):\n",
    "    # Convert Tensor to NumPy array for edge detection\n",
    "    image = image.numpy()  # Convert image to NumPy array\n",
    "    \n",
    "    # Convert the image to uint8 (necessary for Canny edge detection)\n",
    "    image = (image * 255).astype(np.uint8)  # Scale back to [0, 255] and cast to uint8\n",
    "    \n",
    "    gray_image = cv2.cvtColor(image, cv2.COLOR_RGB2GRAY)  # Convert to grayscale\n",
    "    edges = cv2.Canny(gray_image, threshold1=100, threshold2=200)  # Apply Canny edge detection\n",
    "    edges = np.expand_dims(edges, axis=-1)  # Add channel dimension back to make it 3D (HxWx1)\n",
    "    edges = np.repeat(edges, 3, axis=-1)  # Repeat the edge detection result across all 3 channels (RGB)\n",
    "    return edges\n",
    "\n",
    "# Create the dataset for training and testing\n",
    "def create_dataset(image_paths, labels, batch_size=32, augment=False):\n",
    "    X_processed = []\n",
    "    y_processed = []\n",
    "\n",
    "    for image_path, label in zip(image_paths, labels):\n",
    "        # Load and preprocess the image\n",
    "        image = load_image(image_path)\n",
    "        image = preprocess_image(image)\n",
    "        \n",
    "        # Apply edge detection\n",
    "        image_with_edges = tf.py_function(edge_detection, [image], tf.float32)\n",
    "        \n",
    "        # Append processed image and label\n",
    "        X_processed.append(image_with_edges)\n",
    "        y_processed.append(label)\n",
    "\n",
    "    # Convert lists to NumPy arrays for further use\n",
    "    X_processed = np.array(X_processed)\n",
    "    y_processed = np.array(y_processed)\n",
    "\n",
    "    return X_processed, y_processed\n",
    "\n",
    "X_train_processed, y_train_processed = create_dataset(X_train, y_train)\n",
    "X_test_processed, y_test_processed = create_dataset(X_test, y_test)\n"
   ]
  },
  {
   "cell_type": "markdown",
   "metadata": {},
   "source": [
    "# Feature Extraction"
   ]
  },
  {
   "cell_type": "markdown",
   "metadata": {},
   "source": [
    "### Feature extraction functions"
   ]
  },
  {
   "cell_type": "code",
   "execution_count": 12,
   "metadata": {},
   "outputs": [],
   "source": [
    "import tensorflow as tf\n",
    "import numpy as np\n",
    "import cv2\n",
    "from skimage.feature import local_binary_pattern\n",
    "\n",
    "# Calculate the mean RGB values  \n",
    "def mean_rgb_array(image):\n",
    "    return np.mean(image, axis=(0, 1))  # Mean along height and width\n",
    "\n",
    "# Compute Local Binary Pattern (LBP) features \n",
    "def lbp_features(image, radius=1, n_points=8):\n",
    "    # Convert to grayscale\n",
    "    gray_image = cv2.cvtColor(image, cv2.COLOR_RGB2GRAY)\n",
    "    \n",
    "    # Compute LBP\n",
    "    lbp = local_binary_pattern(gray_image, n_points, radius, method=\"uniform\")\n",
    "    \n",
    "    # Return the histogram of LBP\n",
    "    (hist, _) = np.histogram(lbp.ravel(), bins=np.arange(0, n_points + 3), range=(0, n_points + 2))\n",
    "    hist = hist.astype(\"float\")\n",
    "    hist /= (hist.sum() + 1e-7)  # Normalize histogram\n",
    "    return np.mean(hist) # mean of the LBP histogram \n",
    "\n",
    "# Compute the mean value of the Laplacian \n",
    "def laplacian_mean_value(image):\n",
    "    gray_image = cv2.cvtColor(image, cv2.COLOR_RGB2GRAY)\n",
    "    laplacian = cv2.Laplacian(gray_image, cv2.CV_64F)\n",
    "    return np.mean(np.abs(laplacian))  # Return mean of absolute Laplacian values\n",
    "\n",
    "# Compute the mean value of edges in an image using Canny edge detection \n",
    "def edge_mean_value(image):\n",
    "    gray_image = cv2.cvtColor(image, cv2.COLOR_RGB2GRAY)\n",
    "    edges = cv2.Canny(gray_image, threshold1=100, threshold2=200)\n",
    "    return np.mean(edges)  # Mean edge intensity\n",
    "\n",
    "# Compute the mean value of Harris corner strengths \n",
    "def corner_mean_value(image, block_size=2, ksize=3, k=0.04):\n",
    "    \"\"\"\n",
    "    Parameters:\n",
    "    - block_size: The size of the neighborhood considered for corner detection.\n",
    "    - ksize: Aperture parameter of the Sobel derivative used.\n",
    "    - k: Harris detector free parameter in the equation.\n",
    "    \"\"\"\n",
    "    # Convert to grayscale\n",
    "    gray_image = cv2.cvtColor(image, cv2.COLOR_RGB2GRAY)\n",
    "    gray_image = np.float32(gray_image)  # Convert to float32 for cornerHarris\n",
    "\n",
    "    # Apply Harris corner detection\n",
    "    corners = cv2.cornerHarris(gray_image, block_size, ksize, k)\n",
    "    \n",
    "    # Normalize the corner response to the range [0, 1]\n",
    "    corners_normalized = cv2.normalize(corners, None, 0, 1, norm_type=cv2.NORM_MINMAX)\n",
    "    \n",
    "    # Calculate the mean value of corner strengths\n",
    "    mean_corner_strength = np.mean(corners_normalized)\n",
    "    \n",
    "    return mean_corner_strength"
   ]
  },
  {
   "cell_type": "markdown",
   "metadata": {},
   "source": [
    "### Apply Feature Extraction Functions"
   ]
  },
  {
   "cell_type": "code",
   "execution_count": 13,
   "metadata": {},
   "outputs": [],
   "source": [
    "# Extract features for a single image\n",
    "def extract_features(image):\n",
    "    # Convert Tensor to NumPy array for processing\n",
    "    image_np = image.numpy()\n",
    "    image_np = (image_np * 255).astype(np.uint8)  # Scale to [0, 255]\n",
    "    \n",
    "    # Extract features\n",
    "    features = {\n",
    "        \"rgb_mean\": mean_rgb_array(image_np),  # Mean RGB values\n",
    "        \"lbp_mean\": lbp_features(image_np),  # Local Binary Pattern histogram\n",
    "        \"laplacian_mean\": laplacian_mean_value(image_np),  # Mean Laplacian value\n",
    "        \"edge_mean\": edge_mean_value(image_np),  # Mean edge intensity\n",
    "        \"corner_mean\": corner_mean_value(image_np),  # Mean corner strength\n",
    "    }\n",
    "    return features\n",
    "\n",
    "# Final Feature Extraction\n",
    "def extract_features_from_dataset(image_paths):\n",
    "    feature_list = []\n",
    "    for image_path in image_paths:\n",
    "        # Load and preprocess the image\n",
    "        image = load_image(image_path)\n",
    "        image = preprocess_image(image)\n",
    "        \n",
    "        # Extract features\n",
    "        features = extract_features(image)\n",
    "        feature_list.append(features)\n",
    "    \n",
    "    return feature_list"
   ]
  },
  {
   "cell_type": "markdown",
   "metadata": {},
   "source": [
    "### Feature Extraction on Training Data "
   ]
  },
  {
   "cell_type": "code",
   "execution_count": 14,
   "metadata": {},
   "outputs": [
    {
     "name": "stdout",
     "output_type": "stream",
     "text": [
      "[{'rgb_mean': array([78.0228396 , 79.32079082, 77.62215003]), 'lbp_mean': np.float64(0.0999999999998007), 'laplacian_mean': np.float64(94.46012037627551), 'edge_mean': np.float64(82.7164381377551), 'corner_mean': np.float32(0.28835854)}\n",
      " {'rgb_mean': array([93.94533243, 90.40156649, 82.38813377]), 'lbp_mean': np.float64(0.09999999999980069), 'laplacian_mean': np.float64(37.626395089285715), 'edge_mean': np.float64(61.70699139030612), 'corner_mean': np.float32(0.36601585)}\n",
      " {'rgb_mean': array([77.92165577, 90.9279536 , 84.08725287]), 'lbp_mean': np.float64(0.09999999999980069), 'laplacian_mean': np.float64(85.49447943239795), 'edge_mean': np.float64(91.84390943877551), 'corner_mean': np.float32(0.19910921)}\n",
      " ...\n",
      " {'rgb_mean': array([86.73427535, 93.06580835, 81.62820871]), 'lbp_mean': np.float64(0.0999999999998007), 'laplacian_mean': np.float64(68.41095344387755), 'edge_mean': np.float64(86.4111328125), 'corner_mean': np.float32(0.41705394)}\n",
      " {'rgb_mean': array([99.25117586, 79.62017698, 88.47913345]), 'lbp_mean': np.float64(0.0999999999998007), 'laplacian_mean': np.float64(47.54083625637755), 'edge_mean': np.float64(68.9388352997449), 'corner_mean': np.float32(0.30327696)}\n",
      " {'rgb_mean': array([112.41204959, 118.42940848, 112.0558235 ]), 'lbp_mean': np.float64(0.09999999999980069), 'laplacian_mean': np.float64(82.57053172831633), 'edge_mean': np.float64(90.76141980229592), 'corner_mean': np.float32(0.39099056)}]\n"
     ]
    }
   ],
   "source": [
    "train_extracted_features = np.array(extract_features_from_dataset(X_train))\n",
    "print(train_extracted_features)"
   ]
  },
  {
   "cell_type": "code",
   "execution_count": 15,
   "metadata": {},
   "outputs": [],
   "source": [
    "# Flatten the image data\n",
    "X_train_flattened = X_train_processed.reshape(X_train_processed.shape[0], -1)"
   ]
  },
  {
   "cell_type": "code",
   "execution_count": 16,
   "metadata": {},
   "outputs": [],
   "source": [
    "train_features_list = []\n",
    "for feature in train_extracted_features:\n",
    "    rgb_mean = feature['rgb_mean']\n",
    "    lbp_mean = feature['lbp_mean']\n",
    "    laplacian_mean = feature['laplacian_mean']\n",
    "    edge_mean = feature['edge_mean']\n",
    "    corner_mean = feature['corner_mean']\n",
    "    \n",
    "    # Flatten the mean_rgb array and concatenate other features into a single list\n",
    "    features = np.concatenate([rgb_mean, \n",
    "                               [lbp_mean, laplacian_mean, edge_mean, corner_mean]])\n",
    "    train_features_list.append(features)\n",
    "\n",
    "# Convert the list of features into a numpy array\n",
    "train_extracted_features_array = np.array(train_features_list)\n",
    "\n",
    "# Concatenate the image data with the extracted features\n",
    "X_train_final = np.concatenate([X_train_flattened, train_extracted_features_array], axis=1)\n",
    "y_train_final = y_train_processed"
   ]
  },
  {
   "cell_type": "markdown",
   "metadata": {},
   "source": [
    "#### Feature Extraction on Testing Data"
   ]
  },
  {
   "cell_type": "code",
   "execution_count": 17,
   "metadata": {},
   "outputs": [],
   "source": [
    "test_extracted_features = np.array(extract_features_from_dataset(X_test))\n",
    "\n",
    "X_test_flattened = X_test_processed.reshape(X_test_processed.shape[0], -1)\n",
    "\n",
    "test_features_list = []\n",
    "for feature in test_extracted_features:\n",
    "    rgb_mean = feature['rgb_mean']\n",
    "    lbp_mean = feature['lbp_mean']\n",
    "    laplacian_mean = feature['laplacian_mean']\n",
    "    edge_mean = feature['edge_mean']\n",
    "    corner_mean = feature['corner_mean']\n",
    "    \n",
    "    # Flatten the mean_rgb array and concatenate other features into a single list\n",
    "    features = np.concatenate([rgb_mean, \n",
    "                               [lbp_mean, laplacian_mean, edge_mean, corner_mean]])\n",
    "    test_features_list.append(features)\n",
    "\n",
    "# Convert the list of features into a numpy array\n",
    "test_extracted_features_array = np.array(test_features_list)\n",
    "\n",
    "# Concatenate the image data with the extracted features\n",
    "X_test_final = np.concatenate([X_test_flattened, test_extracted_features_array], axis=1)\n",
    "y_test_final = y_test_processed"
   ]
  },
  {
   "cell_type": "markdown",
   "metadata": {},
   "source": [
    "# PCA Vs. LDA"
   ]
  },
  {
   "cell_type": "markdown",
   "metadata": {},
   "source": [
    "## PCA"
   ]
  },
  {
   "cell_type": "code",
   "execution_count": 22,
   "metadata": {},
   "outputs": [
    {
     "ename": "",
     "evalue": "",
     "output_type": "error",
     "traceback": [
      "\u001b[1;31mThe Kernel crashed while executing code in the current cell or a previous cell. \n",
      "\u001b[1;31mPlease review the code in the cell(s) to identify a possible cause of the failure. \n",
      "\u001b[1;31mClick <a href='https://aka.ms/vscodeJupyterKernelCrash'>here</a> for more info. \n",
      "\u001b[1;31mView Jupyter <a href='command:jupyter.viewOutput'>log</a> for further details."
     ]
    }
   ],
   "source": [
    "import numpy as np\n",
    "import matplotlib.pyplot as plt\n",
    "from sklearn.decomposition import PCA\n",
    "from sklearn.preprocessing import StandardScaler\n",
    "\n",
    "# Flatten the images (if they are 3D) into 1D arrays for PCA\n",
    "X_train_flattened = X_train_final.reshape(X_train_final.shape[0], -1)\n",
    "\n",
    "# 1. Standardize the data (scale to zero mean and unit variance)\n",
    "scaler = StandardScaler()\n",
    "X_scaled = scaler.fit_transform(X_train_flattened)\n",
    "\n",
    "# 2. Apply PCA\n",
    "pca = PCA()\n",
    "X_train_pca = pca.fit_transform(X_scaled)\n",
    "\n",
    "# 3. Create a plot for the cumulative explained variance ratio\n",
    "plt.figure(figsize=(8, 6))\n",
    "\n",
    "# Plot the cumulative sum of explained variance ratio\n",
    "plt.plot(np.cumsum(pca.explained_variance_ratio_))\n",
    "\n",
    "# Set labels and title\n",
    "plt.xlabel('Number of Components')\n",
    "plt.ylabel('Cumulative Explained Variance')\n",
    "plt.title('PCA Explained Variance')\n",
    "\n",
    "# Add gridlines for clarity\n",
    "plt.grid(True)\n",
    "\n",
    "# Display the plot\n",
    "plt.show()\n"
   ]
  },
  {
   "cell_type": "markdown",
   "metadata": {},
   "source": [
    "## LDA"
   ]
  },
  {
   "cell_type": "code",
   "execution_count": null,
   "metadata": {},
   "outputs": [],
   "source": [
    "import numpy as np\n",
    "import matplotlib.pyplot as plt\n",
    "from sklearn.preprocessing import StandardScaler\n",
    "from sklearn.discriminant_analysis import LinearDiscriminantAnalysis\n",
    "\n",
    "# Flatten the images (if they are 3D) into 1D arrays for LDA\n",
    "X_train_flattened = X_train_final.reshape(X_train_final.shape[0], -1)\n",
    "\n",
    "# 1. Standardize the data (scale to zero mean and unit variance)\n",
    "scaler = StandardScaler()\n",
    "X_scaled = scaler.fit_transform(X_train_flattened)\n",
    "\n",
    "# 2. Apply LDA\n",
    "lda = LinearDiscriminantAnalysis(n_components=8)\n",
    "X_train_lda = lda.fit_transform(X_scaled, y_train)\n",
    "\n",
    "# 3. Create a plot for the cumulative explained variance ratio\n",
    "plt.figure(figsize=(8, 6))\n",
    "\n",
    "# LDA doesn't directly provide the cumulative explained variance like PCA\n",
    "# However, you can plot the variance explained by each component (as LDA provides this)\n",
    "explained_variance_ratio = lda.explained_variance_ratio_\n",
    "\n",
    "# Plot the cumulative sum of explained variance ratio for LDA\n",
    "plt.plot(np.cumsum(explained_variance_ratio))\n",
    "\n",
    "# Set labels and title\n",
    "plt.xlabel('Number of Components')\n",
    "plt.ylabel('Cumulative Explained Variance')\n",
    "plt.title('LDA Explained Variance')\n",
    "\n",
    "# Add gridlines for clarity\n",
    "plt.grid(True)\n",
    "\n",
    "# Display the plot\n",
    "plt.show()\n"
   ]
  },
  {
   "cell_type": "markdown",
   "metadata": {},
   "source": [
    "### kNN\n",
    "\n",
    "##### k-Nearest Neighbors(kNN) is a simple, non-parametric machine learning algorithm commonly used for both classification and regression tasks. It operates based on the principle of similarity, where the outcome for a given data point is influenced by the outcomes of its nearest neighbors in the feature space. \n"
   ]
  },
  {
   "cell_type": "code",
   "execution_count": 19,
   "metadata": {},
   "outputs": [
    {
     "name": "stdout",
     "output_type": "stream",
     "text": [
      "kNN Accuracy with k=1: 0.1095\n",
      "kNN Accuracy with k=3: 0.1185\n",
      "kNN Accuracy with k=5: 0.1200\n",
      "kNN Accuracy with k=7: 0.1195\n",
      "kNN Accuracy with k=9: 0.1206\n",
      "kNN Accuracy with k=11: 0.1206\n",
      "kNN Accuracy with k=13: 0.1200\n",
      "kNN Accuracy with k=15: 0.1206\n"
     ]
    }
   ],
   "source": [
    "from sklearn.neighbors import KNeighborsClassifier\n",
    "from sklearn.metrics import accuracy_score, classification_report\n",
    "\n",
    "k_values = [1, 3, 5, 7, 9, 11, 13, 15]\n",
    "\n",
    "for k in k_values:\n",
    "    knn = KNeighborsClassifier(n_neighbors=k, n_jobs=-1)\n",
    "    knn.fit(X_train_final, y_train_final)\n",
    "    y_pred_knn = knn.predict(X_test_final)\n",
    "    accuracy_knn = accuracy_score(y_test_final, y_pred_knn)\n",
    "    print(f'kNN Accuracy with k={k}: {accuracy_knn:.4f}')"
   ]
  },
  {
   "cell_type": "markdown",
   "metadata": {},
   "source": [
    "### Classification Report"
   ]
  },
  {
   "cell_type": "code",
   "execution_count": 20,
   "metadata": {},
   "outputs": [
    {
     "name": "stdout",
     "output_type": "stream",
     "text": [
      "Macro-averaged Precision: 0.06\n",
      "Macro-averaged Recall: 0.11\n",
      "Macro-averaged F1 score: 0.03\n",
      "                precision    recall  f1-score   support\n",
      "\n",
      " Chinese Apple       0.12      0.98      0.21       225\n",
      "       Lantana       0.00      0.00      0.00       213\n",
      "   Parkinsonia       0.29      0.03      0.05       206\n",
      "    Parthenium       0.14      0.00      0.01       204\n",
      "Prickly acacia       0.00      0.00      0.00       213\n",
      "   Rubber vine       0.00      0.00      0.00       202\n",
      "     Siam weed       0.00      0.00      0.00       215\n",
      "    Snake Weed       0.00      0.00      0.00       203\n",
      "     Negatives       0.00      0.00      0.00       210\n",
      "\n",
      "      accuracy                           0.12      1891\n",
      "     macro avg       0.06      0.11      0.03      1891\n",
      "  weighted avg       0.06      0.12      0.03      1891\n",
      "\n"
     ]
    },
    {
     "name": "stderr",
     "output_type": "stream",
     "text": [
      "/Users/ichaeyeon/Desktop/weed_classification/myenv/lib/python3.10/site-packages/sklearn/metrics/_classification.py:1531: UndefinedMetricWarning: Precision is ill-defined and being set to 0.0 in labels with no predicted samples. Use `zero_division` parameter to control this behavior.\n",
      "  _warn_prf(average, modifier, f\"{metric.capitalize()} is\", len(result))\n",
      "/Users/ichaeyeon/Desktop/weed_classification/myenv/lib/python3.10/site-packages/sklearn/metrics/_classification.py:1531: UndefinedMetricWarning: Precision is ill-defined and being set to 0.0 in labels with no predicted samples. Use `zero_division` parameter to control this behavior.\n",
      "  _warn_prf(average, modifier, f\"{metric.capitalize()} is\", len(result))\n",
      "/Users/ichaeyeon/Desktop/weed_classification/myenv/lib/python3.10/site-packages/sklearn/metrics/_classification.py:1531: UndefinedMetricWarning: Precision is ill-defined and being set to 0.0 in labels with no predicted samples. Use `zero_division` parameter to control this behavior.\n",
      "  _warn_prf(average, modifier, f\"{metric.capitalize()} is\", len(result))\n",
      "/Users/ichaeyeon/Desktop/weed_classification/myenv/lib/python3.10/site-packages/sklearn/metrics/_classification.py:1531: UndefinedMetricWarning: Precision is ill-defined and being set to 0.0 in labels with no predicted samples. Use `zero_division` parameter to control this behavior.\n",
      "  _warn_prf(average, modifier, f\"{metric.capitalize()} is\", len(result))\n"
     ]
    }
   ],
   "source": [
    "from sklearn.metrics import precision_recall_fscore_support, confusion_matrix, classification_report\n",
    "import seaborn as sns\n",
    "import matplotlib.pyplot as plt\n",
    "\n",
    "\n",
    "# Make kNN predictions with k=13\n",
    "knn = KNeighborsClassifier(n_neighbors=15, n_jobs=-1)\n",
    "knn.fit(X_train_final, y_train_final)\n",
    "y_pred_knn = knn.predict(X_test_final)\n",
    "\n",
    "# Evaluate using macro-averaged precision, recall, and F1 score\n",
    "precision, recall, f1, _ = precision_recall_fscore_support(y_test, y_pred_knn, average='macro')\n",
    "\n",
    "# Define the label mapping\n",
    "target_names = ['Chinese Apple', 'Lantana', 'Parkinsonia', 'Parthenium', \n",
    "                'Prickly acacia', 'Rubber vine', 'Siam weed', 'Snake Weed', 'Negatives']\n",
    "\n",
    "# Output the evaluation metrics\n",
    "print(f\"Macro-averaged Precision: {precision:.2f}\")\n",
    "print(f\"Macro-averaged Recall: {recall:.2f}\")\n",
    "print(f\"Macro-averaged F1 score: {f1:.2f}\")\n",
    "\n",
    "# Classification Report\n",
    "print(classification_report(y_test,y_pred_knn,target_names=target_names))"
   ]
  },
  {
   "cell_type": "markdown",
   "metadata": {},
   "source": [
    "### Confusion Matrix"
   ]
  },
  {
   "cell_type": "code",
   "execution_count": 21,
   "metadata": {},
   "outputs": [
    {
     "data": {
      "image/png": "[encoded data removed]",
      "text/plain": [
       "<Figure size 1000x600 with 2 Axes>"
      ]
     },
     "metadata": {},
     "output_type": "display_data"
    },
    {
     "name": "stdout",
     "output_type": "stream",
     "text": [
      "\n",
      "Confusion Matrix:\n",
      " [[221   0   2   2   0   0   0   0   0]\n",
      " [210   0   3   0   0   0   0   0   0]\n",
      " [197   2   6   1   0   0   0   0   0]\n",
      " [202   0   1   1   0   0   0   0   0]\n",
      " [210   0   2   0   0   1   0   0   0]\n",
      " [200   0   1   1   0   0   0   0   0]\n",
      " [215   0   0   0   0   0   0   0   0]\n",
      " [200   0   2   1   0   0   0   0   0]\n",
      " [204   1   4   1   0   0   0   0   0]]\n"
     ]
    }
   ],
   "source": [
    "# Generate and print the confusion matrix\n",
    "conf_matrix = confusion_matrix(y_test, y_pred_knn)\n",
    "\n",
    "plt.figure(figsize=(10, 6))\n",
    "\n",
    "sns.heatmap(\n",
    "    conf_matrix, annot=True, fmt='d', cmap='viridis', linewidths=0.4, square=True, cbar=True,\n",
    "    xticklabels=['Chinese Apple', 'Lantana', 'Parkinsonia', 'Parthenium', \n",
    "                'Prickly acacia', 'Rubber vine', 'Siam weed', 'Snake Weed', 'Negatives'],\n",
    "    yticklabels=['Chinese Apple', 'Lantana', 'Parkinsonia', 'Parthenium', \n",
    "                'Prickly acacia', 'Rubber vine', 'Siam weed', 'Snake Weed', 'Negatives']\n",
    ")\n",
    "\n",
    "plt.xlabel('Predicted', fontsize=14, fontweight='bold')\n",
    "plt.ylabel('Actual', fontsize=14, fontweight='bold')\n",
    "plt.title('Confusion Matrix', fontsize=16, fontweight='bold')\n",
    "plt.yticks(rotation=360)\n",
    "\n",
    "plt.show()\n",
    "print(\"\\nConfusion Matrix:\\n\", conf_matrix)"
   ]
  }
 ],
 "metadata": {
  "kernelspec": {
   "display_name": "myenv",
   "language": "python",
   "name": "python3"
  },
  "language_info": {
   "codemirror_mode": {
    "name": "ipython",
    "version": 3
   },
   "file_extension": ".py",
   "mimetype": "text/x-python",
   "name": "python",
   "nbconvert_exporter": "python",
   "pygments_lexer": "ipython3",
   "version": "3.10.15"
  }
 },
 "nbformat": 4,
 "nbformat_minor": 2
}
